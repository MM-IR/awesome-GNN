{
 "cells": [
  {
   "cell_type": "markdown",
   "metadata": {},
   "source": [
    "# node2vec: Scalable Feature Learning for Networks\n",
    "### 授课老师：赵老师\n",
    "&nbsp; \n",
    "\n",
    "\n",
    "# 1 前言\n",
    "## 1.1课程回顾\n",
    "\n",
    "\n",
    "<img src=\"../img/1.png\"  width=\"700\" height=\"700\" align=\"bottom\" />\n"
   ]
  },
  {
   "cell_type": "markdown",
   "metadata": {},
   "source": [
    "## 1.2 本课知识树\n",
    "\n",
    "<img src=\"../img/2.png\"  width=\"700\" height=\"700\" align=\"left\" />"
   ]
  },
  {
   "cell_type": "markdown",
   "metadata": {},
   "source": [
    "# 2 准备工作\n",
    "## 2.1项目环境配置\n",
    "\n",
    "* python          3.6.10\n",
    "* jupyter notebook\n",
    "* networkx        2.4\n",
    "* numpy           1.18.1\n",
    "* gensim          3.8.0\n",
    "\n",
    "代码运行环境建议使用Pycharm\n",
    "\n",
    "(use model.wv.save_word2vec_format instead)"
   ]
  },
  {
   "cell_type": "markdown",
   "metadata": {},
   "source": [
    "\n",
    "## 2.2 数据集下载\n",
    "　　karate数据集，可以在 https://github.com/aditya-grover/node2vec/ 上下载, 同时我们课程会提供给大家"
   ]
  },
  {
   "cell_type": "markdown",
   "metadata": {},
   "source": [
    "# 3 项目代码结构（pycharm中演示）"
   ]
  },
  {
   "cell_type": "markdown",
   "metadata": {},
   "source": [
    "# 4 算法模块及细节\n",
    "\n",
    "main.ipynb"
   ]
  },
  {
   "cell_type": "markdown",
   "metadata": {},
   "source": [
    "# 5 代码梳理及细节回顾"
   ]
  },
  {
   "cell_type": "markdown",
   "metadata": {},
   "source": [
    "# 6 作业\n",
    "\n",
    "`【思考题】`代码的时间运行复杂度是多少，为什么实用alias sampling。\n",
    "\n",
    "`【代码实践】`设置不同的p和q训练模型；在大规模的数据集上实验。\n",
    "\n",
    "`【代码实践】`设置weighte graph观察dalais table的变化。\n",
    "\n",
    "`【总结】`总结node2vec的关键技术以及如何代码实现。\n",
    "\n",
    "\n",
    "---"
   ]
  },
  {
   "cell_type": "code",
   "execution_count": null,
   "metadata": {},
   "outputs": [],
   "source": []
  }
 ],
 "metadata": {
  "colab": {
   "authorship_tag": "ABX9TyMaJPtlMHur6DonwEyZLw5h",
   "collapsed_sections": [],
   "name": "data process and load.ipynb",
   "provenance": []
  },
  "kernelspec": {
   "display_name": "Python 3",
   "language": "python",
   "name": "python3"
  },
  "language_info": {
   "codemirror_mode": {
    "name": "ipython",
    "version": 3
   },
   "file_extension": ".py",
   "mimetype": "text/x-python",
   "name": "python",
   "nbconvert_exporter": "python",
   "pygments_lexer": "ipython3",
   "version": "3.8.5"
  }
 },
 "nbformat": 4,
 "nbformat_minor": 1
}
